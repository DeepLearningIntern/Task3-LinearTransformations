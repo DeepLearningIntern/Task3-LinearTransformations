{
  "nbformat": 4,
  "nbformat_minor": 0,
  "metadata": {
    "colab": {
      "provenance": []
    },
    "kernelspec": {
      "name": "python3",
      "display_name": "Python 3"
    },
    "language_info": {
      "name": "python"
    }
  },
  "cells": [
    {
      "cell_type": "markdown",
      "source": [
        "# Introduction\n",
        "In this notebook, we will learn and work with the fundamentals of 2D linear transformations. First, we'll draw a basic face, including the head, eyes, nose, and mouth. The location and contour of the face will then be altered as we experiment with various transformations, such as translation, scaling, and rotation. By the end, you'll understand how any set of coordinates in two dimensions may be transformed using matrix multiplication and vector addition.\n",
        "\n",
        "## 1. Setup"
      ],
      "metadata": {
        "id": "3zMbHGAqBevH"
      }
    },
    {
      "cell_type": "code",
      "source": [
        "import numpy as np\n",
        "import matplotlib.pyplot as plt\n",
        "\n",
        "# Make plots appear inline in the notebook\n",
        "%matplotlib inline\n"
      ],
      "metadata": {
        "id": "E6V_a16vBOTr"
      },
      "execution_count": 6,
      "outputs": []
    },
    {
      "cell_type": "markdown",
      "source": [
        "## 2. Basic NumPy Operations\n"
      ],
      "metadata": {
        "id": "9AhTHnlfBmxU"
      }
    },
    {
      "cell_type": "markdown",
      "source": [],
      "metadata": {
        "id": "1rVd2IwWBcfs"
      }
    },
    {
      "cell_type": "code",
      "execution_count": 7,
      "metadata": {
        "colab": {
          "base_uri": "https://localhost:8080/"
        },
        "id": "568c7DIY8Jwe",
        "outputId": "488a6abf-946c-43e2-a4f8-65b048905fc5"
      },
      "outputs": [
        {
          "output_type": "stream",
          "name": "stdout",
          "text": [
            "1D array: [1 2 3 4 5]\n",
            "2D array (matrix):\n",
            " [[1 2 3]\n",
            " [4 5 6]]\n",
            "First row of arr_2d: [1 2 3]\n",
            "Second column of arr_2d: [2 5]\n",
            "arr_2d * 2:\n",
            " [[ 2  4  6]\n",
            " [ 8 10 12]]\n",
            "Matrix multiplication A * B:\n",
            " [[19 22]\n",
            " [43 50]]\n"
          ]
        }
      ],
      "source": [
        "# Create a 1D array\n",
        "arr_1d = np.array([1, 2, 3, 4, 5])\n",
        "print(\"1D array:\", arr_1d)\n",
        "\n",
        "# Create a 2D array (matrix)\n",
        "arr_2d = np.array([[1, 2, 3],\n",
        "                   [4, 5, 6]])\n",
        "print(\"2D array (matrix):\\n\", arr_2d)\n",
        "\n",
        "# Slicing examples\n",
        "print(\"First row of arr_2d:\", arr_2d[0, :])\n",
        "print(\"Second column of arr_2d:\", arr_2d[:, 1])\n",
        "\n",
        "# Element-wise operations\n",
        "print(\"arr_2d * 2:\\n\", arr_2d * 2)\n",
        "\n",
        "# Matrix multiplication\n",
        "mat_A = np.array([[1, 2],\n",
        "                  [3, 4]])\n",
        "mat_B = np.array([[5, 6],\n",
        "                  [7, 8]])\n",
        "print(\"Matrix multiplication A * B:\\n\", mat_A @ mat_B)\n"
      ]
    },
    {
      "cell_type": "markdown",
      "source": [
        "### Explanation:\n",
        "\n",
        "* `arr_1d` and `arr_2d` demonstrate creating arrays.\n",
        "* `[row, col]` indexing is used to slice data from the 2D matrix.\n",
        "* `*`with a scalar does element-wise scaling.\n",
        "* `@` performs matrix multiplication."
      ],
      "metadata": {
        "id": "12RppBlmB9-x"
      }
    },
    {
      "cell_type": "markdown",
      "source": [
        "## 3. Generating a Simple Face\n",
        "\n",
        "We’ll define a function that returns the coordinates of a very simple “face.” The face will be made up of points representing eyes, a nose, and a mouth."
      ],
      "metadata": {
        "id": "STW82H3_CKdS"
      }
    },
    {
      "cell_type": "code",
      "source": [
        "def generate_face():\n",
        "    \"\"\"\n",
        "    Returns a NumPy array of shape (num_points, 2),\n",
        "    containing x,y coordinates for a simple face.\n",
        "    \"\"\"\n",
        "    # --- Outline (a circle-ish shape) ---\n",
        "    theta = np.linspace(0, 2*np.pi, 50)\n",
        "    head_x = 2 * np.cos(theta)\n",
        "    head_y = 2 * np.sin(theta)\n",
        "\n",
        "    # --- Eyes ---\n",
        "    left_eye = np.array([[-0.6,  0.7],\n",
        "                         [-0.4,  0.7]])\n",
        "    right_eye = np.array([[ 0.4,  0.7],\n",
        "                          [ 0.6,  0.7]])\n",
        "\n",
        "    # --- Nose ---\n",
        "    nose = np.array([[0.0, 0.4],\n",
        "                     [0.0, 0.2]])\n",
        "\n",
        "    # --- Mouth ---\n",
        "    # This creates a mouth arc spanning from -π/4 to +π/4 (roughly -45° to +45°).\n",
        "    # Increase or decrease these angles to make the mouth wider or narrower.\n",
        "    mouth_theta = np.linspace(-np.pi/4, np.pi/4, 30)\n",
        "\n",
        "    # Adjust these parameters to change mouth shape:\n",
        "    mouth_radius   = 1.0   # how big the arc is in radius\n",
        "    mouth_center_x = 0.0   # horizontal shift of the mouth\n",
        "    mouth_center_y = 0.0  # vertical shift of the mouth (move it up/down)\n",
        "\n",
        "    # Parametric equations for the arc\n",
        "    mouth_x = mouth_center_x + mouth_radius * np.cos(mouth_theta)\n",
        "    mouth_y = mouth_center_y + 0.5 * np.sin(mouth_theta)\n",
        "\n",
        "    # --- Rotate the mouth ---\n",
        "    rotation_angle = np.pi/2 # 90 degrees in radians\n",
        "    rotation_matrix = np.array([\n",
        "        [np.cos(rotation_angle), -np.sin(rotation_angle)],\n",
        "        [np.sin(rotation_angle), np.cos(rotation_angle)]\n",
        "    ])\n",
        "\n",
        "    # Center the mouth points for rotation\n",
        "    mouth_points = np.column_stack((mouth_x - mouth_center_x, mouth_y - mouth_center_y))\n",
        "\n",
        "    # Apply rotation\n",
        "    rotated_mouth_points = mouth_points @ rotation_matrix\n",
        "\n",
        "    # Translate back to original position\n",
        "    mouth_x = rotated_mouth_points[:, 0] + mouth_center_x\n",
        "    mouth_y = rotated_mouth_points[:, 1] + mouth_center_y\n",
        "\n",
        "\n",
        "    # --- Combine all points ---\n",
        "    head  = np.column_stack((head_x,  head_y))\n",
        "    mouth = np.column_stack((mouth_x, mouth_y))\n",
        "    face_points = np.concatenate([head, left_eye, right_eye, nose, mouth], axis=0)\n",
        "\n",
        "    return face_points\n",
        "\n",
        "# Generate and plot\n",
        "face_points = generate_face()\n",
        "\n",
        "plt.figure(figsize=(5,5))\n",
        "plt.scatter(face_points[:,0], face_points[:,1], s=15)\n",
        "plt.axis('equal')\n",
        "plt.title(\"Original Face\")\n",
        "plt.show()\n"
      ],
      "metadata": {
        "colab": {
          "base_uri": "https://localhost:8080/",
          "height": 468
        },
        "id": "AFc99HvJCV6g",
        "outputId": "9ee9d231-d410-447a-8190-12404c3a9926"
      },
      "execution_count": 32,
      "outputs": [
        {
          "output_type": "display_data",
          "data": {
            "text/plain": [
              "<Figure size 500x500 with 1 Axes>"
            ],
            "image/png": "[encoded data removed]"
          },
          "metadata": {}
        }
      ]
    },
    {
      "cell_type": "markdown",
      "source": [
        "## Step 4: Linear Transformations\n",
        "\n",
        "### 4.1 Rotation\n",
        "A 2D rotation by an angle $\\theta$ (in radians) is given by the matrix:\n",
        "$\n",
        "R(\\theta) =\n",
        "\\begin{pmatrix}\n",
        "\\cos\\theta & -\\sin\\theta \\\\\n",
        "\\sin\\theta & \\cos\\theta\n",
        "\\end{pmatrix}.\n",
        "$"
      ],
      "metadata": {
        "id": "wIDzrzwmCZj0"
      }
    },
    {
      "cell_type": "code",
      "source": [
        "def rotation_matrix(theta):\n",
        "    \"\"\"\n",
        "    Returns a 2D rotation matrix for rotating points by angle theta (in radians).\n",
        "    \"\"\"\n",
        "    return np.array([\n",
        "        [np.cos(theta), -np.sin(theta)],\n",
        "        [np.sin(theta),  np.cos(theta)]\n",
        "    ])\n"
      ],
      "metadata": {
        "id": "JetEBHznCbys"
      },
      "execution_count": 26,
      "outputs": []
    },
    {
      "cell_type": "markdown",
      "source": [
        "### 4.2 Scaling\n",
        "Uniform scaling by a factor $s$ in both axes:\n",
        "$\n",
        "S(s) =\n",
        "\\begin{pmatrix}\n",
        "s & 0 \\\\\n",
        "0 & s\n",
        "\\end{pmatrix}.\n",
        "$\n",
        "\n",
        "Non-uniform scaling by $s_x$ and $s_y$:\n",
        "$\n",
        "S(s_x, s_y) =\n",
        "\\begin{pmatrix}\n",
        "s_x & 0 \\\\\n",
        "0 & s_y\n",
        "\\end{pmatrix}.\n",
        "$\n"
      ],
      "metadata": {
        "id": "8yrRoG8HGsZW"
      }
    },
    {
      "cell_type": "code",
      "source": [
        "def scaling_matrix(sx, sy=None):\n",
        "    \"\"\"\n",
        "    Returns a 2D scaling matrix. If sy is not specified, uniform scaling by sx.\n",
        "    \"\"\"\n",
        "    if sy is None:\n",
        "        sy = sx\n",
        "    return np.array([\n",
        "        [sx, 0],\n",
        "        [0,  sy]\n",
        "    ])\n"
      ],
      "metadata": {
        "id": "L1xc3EPGCg92"
      },
      "execution_count": 28,
      "outputs": []
    },
    {
      "cell_type": "markdown",
      "source": [
        "### 4.3 Non-uniform scaling by $s_x$ and $s_y$:\n",
        "$\n",
        "S(s_x, s_y) =\n",
        "\\begin{pmatrix}\n",
        "s_x & 0 \\\\\n",
        "0 & s_y\n",
        "\\end{pmatrix}.\n",
        "$"
      ],
      "metadata": {
        "id": "sPO4JeVnCito"
      }
    },
    {
      "cell_type": "code",
      "source": [
        "def transform_points(points, matrix):\n",
        "    \"\"\"\n",
        "    Applies a 2x2 matrix transformation to an array of points of shape (N, 2).\n",
        "    Returns the transformed points (N, 2).\n",
        "    \"\"\"\n",
        "    return points @ matrix.T  # matrix.T because points are row vectors\n",
        "\n",
        "# Example 1: Rotate the face by 45 degrees\n",
        "theta_45 = np.radians(45)\n",
        "rot_mat_45 = rotation_matrix(theta_45)\n",
        "face_rotated_45 = transform_points(face_points, rot_mat_45)\n",
        "\n",
        "# Example 2: Scale the face by a factor of 1.5 uniformly\n",
        "scale_mat_15 = scaling_matrix(1.5)\n",
        "face_scaled_15 = transform_points(face_points, scale_mat_15)\n",
        "\n",
        "# Plot the original and transformed faces\n",
        "fig, axes = plt.subplots(1, 2, figsize=(10,5))\n",
        "\n",
        "axes[0].scatter(face_rotated_45[:,0], face_rotated_45[:,1], s=10, c='r')\n",
        "axes[0].axis('equal')\n",
        "axes[0].set_title(\"Face Rotated 45°\")\n",
        "\n",
        "axes[1].scatter(face_scaled_15[:,0], face_scaled_15[:,1], s=10, c='g')\n",
        "axes[1].axis('equal')\n",
        "axes[1].set_title(\"Face Scaled 1.5x\")\n",
        "\n",
        "plt.show()\n"
      ],
      "metadata": {
        "colab": {
          "base_uri": "https://localhost:8080/",
          "height": 468
        },
        "id": "LmSb6Y9FFml2",
        "outputId": "98ee3e9e-df73-4042-fe21-39367294b361"
      },
      "execution_count": 30,
      "outputs": [
        {
          "output_type": "display_data",
          "data": {
            "text/plain": [
              "<Figure size 1000x500 with 2 Axes>"
            ],
            "image/png": "[encoded data removed]"
          },
          "metadata": {}
        }
      ]
    },
    {
      "cell_type": "markdown",
      "source": [
        "### 4.4 Translation\n",
        "Translation by $(t_x, t_y)$ adds those values to each point:\n",
        "$\n",
        "(x', y') = (x + t_x,\\, y + t_y).\n",
        "$\n",
        "\n",
        "If you want a matrix form for translation, you typically use **homogeneous coordinates**:\n",
        "$\n",
        "\\begin{pmatrix}\n",
        "x' \\\\[6pt]\n",
        "y' \\\\[6pt]\n",
        "1\n",
        "\\end{pmatrix}\n",
        "=\n",
        "\\begin{pmatrix}\n",
        "1 & 0 & t_x \\\\\n",
        "0 & 1 & t_y \\\\\n",
        "0 & 0 & 1\n",
        "\\end{pmatrix}\n",
        "\\begin{pmatrix}\n",
        "x \\\\[4pt]\n",
        "y \\\\[4pt]\n",
        "1\n",
        "\\end{pmatrix}.\n",
        "$"
      ],
      "metadata": {
        "id": "OIlIQtAJCmL1"
      }
    },
    {
      "cell_type": "code",
      "source": [
        "def translate_points(points, tx, ty):\n",
        "    \"\"\"\n",
        "    Translates all points by (tx, ty).\n",
        "    \"\"\"\n",
        "    translation_vector = np.array([tx, ty])\n",
        "    return points + translation_vector\n",
        "\n",
        "# Translate the face up and to the right\n",
        "face_translated = translate_points(face_points, tx=2.0, ty=1.0)\n",
        "\n",
        "plt.figure(figsize=(5,5))\n",
        "plt.scatter(face_translated[:,0], face_translated[:,1], s=10, c='orange')\n",
        "plt.axis('equal')\n",
        "plt.title(\"Face Translated by (2.0, 1.0)\")\n",
        "plt.show()\n"
      ],
      "metadata": {
        "colab": {
          "base_uri": "https://localhost:8080/",
          "height": 468
        },
        "id": "G3FuAAL_HIqP",
        "outputId": "fba8c502-d876-4ff6-8c84-f16871d88569"
      },
      "execution_count": 38,
      "outputs": [
        {
          "output_type": "display_data",
          "data": {
            "text/plain": [
              "<Figure size 500x500 with 1 Axes>"
            ],
            "image/png": "[encoded data removed]"
          },
          "metadata": {}
        }
      ]
    },
    {
      "cell_type": "markdown",
      "source": [
        "# Conclusion\n",
        "\n",
        "This exercise illustrates the beauty and elegance of linear algebra applied to manipulating 2D points. Because we represent our face as a collection of points transformations are simple, we  multiply by your rotation or scaling matrix or add a translation. Now that NumPy is doing the heavy lifting, you can start playing around with more complicated transformations, chaining them in various orders, or even working with higher-dimensional data in future projects."
      ],
      "metadata": {
        "id": "ERitJ7WMIm67"
      }
    }
  ]
}